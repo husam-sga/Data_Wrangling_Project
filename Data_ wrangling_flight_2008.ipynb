{
 "cells": [
  {
   "cell_type": "markdown",
   "metadata": {
    "id": "BmVWedu3EcxT"
   },
   "source": [
    "# Data Wrangling Project, by Husam Ahmed."
   ]
  },
  {
   "cell_type": "markdown",
   "metadata": {
    "id": "dg7Ph0W7Eqd-"
   },
   "source": [
    "## Introduction\n",
    "This project investiages the flights data in 2008 in  the United States. The purpose of the project is performing the 3 stages of Data Wrangling (Gathering, Assessing, and Cleaning)."
   ]
  },
  {
   "cell_type": "markdown",
   "metadata": {
    "id": "GkCmGdGeEuSO"
   },
   "source": [
    "## Data Gathering"
   ]
  },
  {
   "cell_type": "code",
   "execution_count": 1,
   "metadata": {
    "id": "kQf3LP0oy5zL"
   },
   "outputs": [],
   "source": [
    "# Importing the required libraries\n",
    "import pandas as pd\n",
    "import numpy as np\n",
    "import matplotlib.pyplot as plt\n",
    "from datetime import datetime\n",
    "import bz2\n",
    "import re\n",
    "import requests"
   ]
  },
  {
   "cell_type": "code",
   "execution_count": null,
   "metadata": {
    "id": "Kw1UovLAzhmb"
   },
   "outputs": [],
   "source": [
    "# Downloading the 2008 flight data and unzipping it then saving it locally\n",
    "url = 'https://dataverse.harvard.edu/api/access/datafile/:persistentId?persistentId=doi:10.7910/DVN/HG7NV7/EIR0RA'\n",
    "response = requests.get(url)\n",
    "with open('flights.csv.bz2' , mode = 'wb') as file:\n",
    "    file.write(response.content)"
   ]
  },
  {
   "cell_type": "code",
   "execution_count": null,
   "metadata": {
    "colab": {
     "base_uri": "https://localhost:8080/"
    },
    "id": "tB1Hj_kpznGg",
    "outputId": "4eebd292-358a-4e77-f568-cf86f633aa2a"
   },
   "outputs": [
    {
     "data": {
      "text/plain": [
       "234052199"
      ]
     },
     "execution_count": 3,
     "metadata": {},
     "output_type": "execute_result"
    }
   ],
   "source": [
    "zipfile = bz2.BZ2File('flights.csv.bz2') \n",
    "data = zipfile.read() \n",
    "newfilepath = 'flights.csv.bz2'[:-4] \n",
    "open(newfilepath, 'wb').write(data) "
   ]
  },
  {
   "cell_type": "markdown",
   "metadata": {
    "id": "hBqTITfdFI-r"
   },
   "source": [
    "## Data Assessing"
   ]
  },
  {
   "cell_type": "code",
   "execution_count": 2,
   "metadata": {
    "colab": {
     "base_uri": "https://localhost:8080/",
     "height": 299
    },
    "id": "eQN3UowmzueH",
    "outputId": "63b94ac8-d8bd-4649-97d8-cd00f920e40b"
   },
   "outputs": [
    {
     "data": {
      "text/html": [
       "<div>\n",
       "<style scoped>\n",
       "    .dataframe tbody tr th:only-of-type {\n",
       "        vertical-align: middle;\n",
       "    }\n",
       "\n",
       "    .dataframe tbody tr th {\n",
       "        vertical-align: top;\n",
       "    }\n",
       "\n",
       "    .dataframe thead th {\n",
       "        text-align: right;\n",
       "    }\n",
       "</style>\n",
       "<table border=\"1\" class=\"dataframe\">\n",
       "  <thead>\n",
       "    <tr style=\"text-align: right;\">\n",
       "      <th></th>\n",
       "      <th>Year</th>\n",
       "      <th>Month</th>\n",
       "      <th>DayofMonth</th>\n",
       "      <th>DayOfWeek</th>\n",
       "      <th>DepTime</th>\n",
       "      <th>CRSDepTime</th>\n",
       "      <th>ArrTime</th>\n",
       "      <th>CRSArrTime</th>\n",
       "      <th>UniqueCarrier</th>\n",
       "      <th>FlightNum</th>\n",
       "      <th>...</th>\n",
       "      <th>TaxiIn</th>\n",
       "      <th>TaxiOut</th>\n",
       "      <th>Cancelled</th>\n",
       "      <th>CancellationCode</th>\n",
       "      <th>Diverted</th>\n",
       "      <th>CarrierDelay</th>\n",
       "      <th>WeatherDelay</th>\n",
       "      <th>NASDelay</th>\n",
       "      <th>SecurityDelay</th>\n",
       "      <th>LateAircraftDelay</th>\n",
       "    </tr>\n",
       "  </thead>\n",
       "  <tbody>\n",
       "    <tr>\n",
       "      <td>0</td>\n",
       "      <td>2008</td>\n",
       "      <td>1</td>\n",
       "      <td>3</td>\n",
       "      <td>4</td>\n",
       "      <td>1343.0</td>\n",
       "      <td>1325</td>\n",
       "      <td>1451.0</td>\n",
       "      <td>1435</td>\n",
       "      <td>WN</td>\n",
       "      <td>588</td>\n",
       "      <td>...</td>\n",
       "      <td>4.0</td>\n",
       "      <td>9.0</td>\n",
       "      <td>0</td>\n",
       "      <td>NaN</td>\n",
       "      <td>0</td>\n",
       "      <td>16.0</td>\n",
       "      <td>0.0</td>\n",
       "      <td>0.0</td>\n",
       "      <td>0.0</td>\n",
       "      <td>0.0</td>\n",
       "    </tr>\n",
       "    <tr>\n",
       "      <td>1</td>\n",
       "      <td>2008</td>\n",
       "      <td>1</td>\n",
       "      <td>3</td>\n",
       "      <td>4</td>\n",
       "      <td>1125.0</td>\n",
       "      <td>1120</td>\n",
       "      <td>1247.0</td>\n",
       "      <td>1245</td>\n",
       "      <td>WN</td>\n",
       "      <td>1343</td>\n",
       "      <td>...</td>\n",
       "      <td>3.0</td>\n",
       "      <td>8.0</td>\n",
       "      <td>0</td>\n",
       "      <td>NaN</td>\n",
       "      <td>0</td>\n",
       "      <td>NaN</td>\n",
       "      <td>NaN</td>\n",
       "      <td>NaN</td>\n",
       "      <td>NaN</td>\n",
       "      <td>NaN</td>\n",
       "    </tr>\n",
       "    <tr>\n",
       "      <td>2</td>\n",
       "      <td>2008</td>\n",
       "      <td>1</td>\n",
       "      <td>3</td>\n",
       "      <td>4</td>\n",
       "      <td>2009.0</td>\n",
       "      <td>2015</td>\n",
       "      <td>2136.0</td>\n",
       "      <td>2140</td>\n",
       "      <td>WN</td>\n",
       "      <td>3841</td>\n",
       "      <td>...</td>\n",
       "      <td>2.0</td>\n",
       "      <td>14.0</td>\n",
       "      <td>0</td>\n",
       "      <td>NaN</td>\n",
       "      <td>0</td>\n",
       "      <td>NaN</td>\n",
       "      <td>NaN</td>\n",
       "      <td>NaN</td>\n",
       "      <td>NaN</td>\n",
       "      <td>NaN</td>\n",
       "    </tr>\n",
       "    <tr>\n",
       "      <td>3</td>\n",
       "      <td>2008</td>\n",
       "      <td>1</td>\n",
       "      <td>3</td>\n",
       "      <td>4</td>\n",
       "      <td>903.0</td>\n",
       "      <td>855</td>\n",
       "      <td>1203.0</td>\n",
       "      <td>1205</td>\n",
       "      <td>WN</td>\n",
       "      <td>3</td>\n",
       "      <td>...</td>\n",
       "      <td>5.0</td>\n",
       "      <td>7.0</td>\n",
       "      <td>0</td>\n",
       "      <td>NaN</td>\n",
       "      <td>0</td>\n",
       "      <td>NaN</td>\n",
       "      <td>NaN</td>\n",
       "      <td>NaN</td>\n",
       "      <td>NaN</td>\n",
       "      <td>NaN</td>\n",
       "    </tr>\n",
       "    <tr>\n",
       "      <td>4</td>\n",
       "      <td>2008</td>\n",
       "      <td>1</td>\n",
       "      <td>3</td>\n",
       "      <td>4</td>\n",
       "      <td>1423.0</td>\n",
       "      <td>1400</td>\n",
       "      <td>1726.0</td>\n",
       "      <td>1710</td>\n",
       "      <td>WN</td>\n",
       "      <td>25</td>\n",
       "      <td>...</td>\n",
       "      <td>6.0</td>\n",
       "      <td>10.0</td>\n",
       "      <td>0</td>\n",
       "      <td>NaN</td>\n",
       "      <td>0</td>\n",
       "      <td>16.0</td>\n",
       "      <td>0.0</td>\n",
       "      <td>0.0</td>\n",
       "      <td>0.0</td>\n",
       "      <td>0.0</td>\n",
       "    </tr>\n",
       "  </tbody>\n",
       "</table>\n",
       "<p>5 rows × 29 columns</p>\n",
       "</div>"
      ],
      "text/plain": [
       "   Year  Month  DayofMonth  DayOfWeek  DepTime  CRSDepTime  ArrTime  \\\n",
       "0  2008      1           3          4   1343.0        1325   1451.0   \n",
       "1  2008      1           3          4   1125.0        1120   1247.0   \n",
       "2  2008      1           3          4   2009.0        2015   2136.0   \n",
       "3  2008      1           3          4    903.0         855   1203.0   \n",
       "4  2008      1           3          4   1423.0        1400   1726.0   \n",
       "\n",
       "   CRSArrTime UniqueCarrier  FlightNum  ... TaxiIn  TaxiOut  Cancelled  \\\n",
       "0        1435            WN        588  ...    4.0      9.0          0   \n",
       "1        1245            WN       1343  ...    3.0      8.0          0   \n",
       "2        2140            WN       3841  ...    2.0     14.0          0   \n",
       "3        1205            WN          3  ...    5.0      7.0          0   \n",
       "4        1710            WN         25  ...    6.0     10.0          0   \n",
       "\n",
       "   CancellationCode  Diverted  CarrierDelay WeatherDelay NASDelay  \\\n",
       "0               NaN         0          16.0          0.0      0.0   \n",
       "1               NaN         0           NaN          NaN      NaN   \n",
       "2               NaN         0           NaN          NaN      NaN   \n",
       "3               NaN         0           NaN          NaN      NaN   \n",
       "4               NaN         0          16.0          0.0      0.0   \n",
       "\n",
       "   SecurityDelay  LateAircraftDelay  \n",
       "0            0.0                0.0  \n",
       "1            NaN                NaN  \n",
       "2            NaN                NaN  \n",
       "3            NaN                NaN  \n",
       "4            0.0                0.0  \n",
       "\n",
       "[5 rows x 29 columns]"
      ]
     },
     "execution_count": 2,
     "metadata": {},
     "output_type": "execute_result"
    }
   ],
   "source": [
    "# Reading in the data and displaying it for visual and programmatic assessment\n",
    "flights = pd.read_csv('flights.csv')\n",
    "flights.head()"
   ]
  },
  {
   "cell_type": "code",
   "execution_count": 5,
   "metadata": {},
   "outputs": [
    {
     "data": {
      "text/plain": [
       "0    2324775\n",
       "1      64442\n",
       "Name: Cancelled, dtype: int64"
      ]
     },
     "execution_count": 5,
     "metadata": {},
     "output_type": "execute_result"
    }
   ],
   "source": [
    "flights.Cancelled.value_counts()"
   ]
  },
  {
   "cell_type": "code",
   "execution_count": null,
   "metadata": {
    "colab": {
     "base_uri": "https://localhost:8080/"
    },
    "id": "6WkIhR5Nz6sB",
    "outputId": "92fe6b72-1a8a-4057-82ce-dedda9d2b1f2"
   },
   "outputs": [
    {
     "name": "stdout",
     "output_type": "stream",
     "text": [
      "<class 'pandas.core.frame.DataFrame'>\n",
      "RangeIndex: 2389217 entries, 0 to 2389216\n",
      "Data columns (total 29 columns):\n",
      " #   Column             Dtype  \n",
      "---  ------             -----  \n",
      " 0   Year               int64  \n",
      " 1   Month              int64  \n",
      " 2   DayofMonth         int64  \n",
      " 3   DayOfWeek          int64  \n",
      " 4   DepTime            float64\n",
      " 5   CRSDepTime         int64  \n",
      " 6   ArrTime            float64\n",
      " 7   CRSArrTime         int64  \n",
      " 8   UniqueCarrier      object \n",
      " 9   FlightNum          int64  \n",
      " 10  TailNum            object \n",
      " 11  ActualElapsedTime  float64\n",
      " 12  CRSElapsedTime     float64\n",
      " 13  AirTime            float64\n",
      " 14  ArrDelay           float64\n",
      " 15  DepDelay           float64\n",
      " 16  Origin             object \n",
      " 17  Dest               object \n",
      " 18  Distance           int64  \n",
      " 19  TaxiIn             float64\n",
      " 20  TaxiOut            float64\n",
      " 21  Cancelled          int64  \n",
      " 22  CancellationCode   object \n",
      " 23  Diverted           int64  \n",
      " 24  CarrierDelay       float64\n",
      " 25  WeatherDelay       float64\n",
      " 26  NASDelay           float64\n",
      " 27  SecurityDelay      float64\n",
      " 28  LateAircraftDelay  float64\n",
      "dtypes: float64(14), int64(10), object(5)\n",
      "memory usage: 528.6+ MB\n"
     ]
    }
   ],
   "source": [
    "flights.info()"
   ]
  },
  {
   "cell_type": "code",
   "execution_count": 8,
   "metadata": {
    "colab": {
     "base_uri": "https://localhost:8080/",
     "height": 487
    },
    "id": "5IzUuNg1z7A7",
    "outputId": "f626f740-286f-4c0a-d40a-877bdb16d328"
   },
   "outputs": [
    {
     "data": {
      "text/html": [
       "\n",
       "  <div id=\"df-cc04ebe8-9040-4552-9c4e-993c8775bad0\">\n",
       "    <div class=\"colab-df-container\">\n",
       "      <div>\n",
       "<style scoped>\n",
       "    .dataframe tbody tr th:only-of-type {\n",
       "        vertical-align: middle;\n",
       "    }\n",
       "\n",
       "    .dataframe tbody tr th {\n",
       "        vertical-align: top;\n",
       "    }\n",
       "\n",
       "    .dataframe thead th {\n",
       "        text-align: right;\n",
       "    }\n",
       "</style>\n",
       "<table border=\"1\" class=\"dataframe\">\n",
       "  <thead>\n",
       "    <tr style=\"text-align: right;\">\n",
       "      <th></th>\n",
       "      <th>Year</th>\n",
       "      <th>Month</th>\n",
       "      <th>DayofMonth</th>\n",
       "      <th>DayOfWeek</th>\n",
       "      <th>DepTime</th>\n",
       "      <th>CRSDepTime</th>\n",
       "      <th>ArrTime</th>\n",
       "      <th>CRSArrTime</th>\n",
       "      <th>UniqueCarrier</th>\n",
       "      <th>FlightNum</th>\n",
       "      <th>...</th>\n",
       "      <th>TaxiIn</th>\n",
       "      <th>TaxiOut</th>\n",
       "      <th>Cancelled</th>\n",
       "      <th>CancellationCode</th>\n",
       "      <th>Diverted</th>\n",
       "      <th>CarrierDelay</th>\n",
       "      <th>WeatherDelay</th>\n",
       "      <th>NASDelay</th>\n",
       "      <th>SecurityDelay</th>\n",
       "      <th>LateAircraftDelay</th>\n",
       "    </tr>\n",
       "  </thead>\n",
       "  <tbody>\n",
       "    <tr>\n",
       "      <th>0</th>\n",
       "      <td>2008</td>\n",
       "      <td>1</td>\n",
       "      <td>3</td>\n",
       "      <td>4</td>\n",
       "      <td>1343.0</td>\n",
       "      <td>1325</td>\n",
       "      <td>1451.0</td>\n",
       "      <td>1435</td>\n",
       "      <td>WN</td>\n",
       "      <td>588</td>\n",
       "      <td>...</td>\n",
       "      <td>4.0</td>\n",
       "      <td>9.0</td>\n",
       "      <td>0</td>\n",
       "      <td>NaN</td>\n",
       "      <td>0</td>\n",
       "      <td>16.0</td>\n",
       "      <td>0.0</td>\n",
       "      <td>0.0</td>\n",
       "      <td>0.0</td>\n",
       "      <td>0.0</td>\n",
       "    </tr>\n",
       "    <tr>\n",
       "      <th>1</th>\n",
       "      <td>2008</td>\n",
       "      <td>1</td>\n",
       "      <td>3</td>\n",
       "      <td>4</td>\n",
       "      <td>1125.0</td>\n",
       "      <td>1120</td>\n",
       "      <td>1247.0</td>\n",
       "      <td>1245</td>\n",
       "      <td>WN</td>\n",
       "      <td>1343</td>\n",
       "      <td>...</td>\n",
       "      <td>3.0</td>\n",
       "      <td>8.0</td>\n",
       "      <td>0</td>\n",
       "      <td>NaN</td>\n",
       "      <td>0</td>\n",
       "      <td>NaN</td>\n",
       "      <td>NaN</td>\n",
       "      <td>NaN</td>\n",
       "      <td>NaN</td>\n",
       "      <td>NaN</td>\n",
       "    </tr>\n",
       "    <tr>\n",
       "      <th>2</th>\n",
       "      <td>2008</td>\n",
       "      <td>1</td>\n",
       "      <td>3</td>\n",
       "      <td>4</td>\n",
       "      <td>2009.0</td>\n",
       "      <td>2015</td>\n",
       "      <td>2136.0</td>\n",
       "      <td>2140</td>\n",
       "      <td>WN</td>\n",
       "      <td>3841</td>\n",
       "      <td>...</td>\n",
       "      <td>2.0</td>\n",
       "      <td>14.0</td>\n",
       "      <td>0</td>\n",
       "      <td>NaN</td>\n",
       "      <td>0</td>\n",
       "      <td>NaN</td>\n",
       "      <td>NaN</td>\n",
       "      <td>NaN</td>\n",
       "      <td>NaN</td>\n",
       "      <td>NaN</td>\n",
       "    </tr>\n",
       "    <tr>\n",
       "      <th>3</th>\n",
       "      <td>2008</td>\n",
       "      <td>1</td>\n",
       "      <td>3</td>\n",
       "      <td>4</td>\n",
       "      <td>903.0</td>\n",
       "      <td>855</td>\n",
       "      <td>1203.0</td>\n",
       "      <td>1205</td>\n",
       "      <td>WN</td>\n",
       "      <td>3</td>\n",
       "      <td>...</td>\n",
       "      <td>5.0</td>\n",
       "      <td>7.0</td>\n",
       "      <td>0</td>\n",
       "      <td>NaN</td>\n",
       "      <td>0</td>\n",
       "      <td>NaN</td>\n",
       "      <td>NaN</td>\n",
       "      <td>NaN</td>\n",
       "      <td>NaN</td>\n",
       "      <td>NaN</td>\n",
       "    </tr>\n",
       "    <tr>\n",
       "      <th>4</th>\n",
       "      <td>2008</td>\n",
       "      <td>1</td>\n",
       "      <td>3</td>\n",
       "      <td>4</td>\n",
       "      <td>1423.0</td>\n",
       "      <td>1400</td>\n",
       "      <td>1726.0</td>\n",
       "      <td>1710</td>\n",
       "      <td>WN</td>\n",
       "      <td>25</td>\n",
       "      <td>...</td>\n",
       "      <td>6.0</td>\n",
       "      <td>10.0</td>\n",
       "      <td>0</td>\n",
       "      <td>NaN</td>\n",
       "      <td>0</td>\n",
       "      <td>16.0</td>\n",
       "      <td>0.0</td>\n",
       "      <td>0.0</td>\n",
       "      <td>0.0</td>\n",
       "      <td>0.0</td>\n",
       "    </tr>\n",
       "    <tr>\n",
       "      <th>...</th>\n",
       "      <td>...</td>\n",
       "      <td>...</td>\n",
       "      <td>...</td>\n",
       "      <td>...</td>\n",
       "      <td>...</td>\n",
       "      <td>...</td>\n",
       "      <td>...</td>\n",
       "      <td>...</td>\n",
       "      <td>...</td>\n",
       "      <td>...</td>\n",
       "      <td>...</td>\n",
       "      <td>...</td>\n",
       "      <td>...</td>\n",
       "      <td>...</td>\n",
       "      <td>...</td>\n",
       "      <td>...</td>\n",
       "      <td>...</td>\n",
       "      <td>...</td>\n",
       "      <td>...</td>\n",
       "      <td>...</td>\n",
       "      <td>...</td>\n",
       "    </tr>\n",
       "    <tr>\n",
       "      <th>2389212</th>\n",
       "      <td>2008</td>\n",
       "      <td>4</td>\n",
       "      <td>17</td>\n",
       "      <td>4</td>\n",
       "      <td>1025.0</td>\n",
       "      <td>1025</td>\n",
       "      <td>1234.0</td>\n",
       "      <td>1237</td>\n",
       "      <td>DL</td>\n",
       "      <td>1207</td>\n",
       "      <td>...</td>\n",
       "      <td>5.0</td>\n",
       "      <td>16.0</td>\n",
       "      <td>0</td>\n",
       "      <td>NaN</td>\n",
       "      <td>0</td>\n",
       "      <td>NaN</td>\n",
       "      <td>NaN</td>\n",
       "      <td>NaN</td>\n",
       "      <td>NaN</td>\n",
       "      <td>NaN</td>\n",
       "    </tr>\n",
       "    <tr>\n",
       "      <th>2389213</th>\n",
       "      <td>2008</td>\n",
       "      <td>4</td>\n",
       "      <td>17</td>\n",
       "      <td>4</td>\n",
       "      <td>1319.0</td>\n",
       "      <td>1320</td>\n",
       "      <td>1527.0</td>\n",
       "      <td>1524</td>\n",
       "      <td>DL</td>\n",
       "      <td>1208</td>\n",
       "      <td>...</td>\n",
       "      <td>9.0</td>\n",
       "      <td>12.0</td>\n",
       "      <td>0</td>\n",
       "      <td>NaN</td>\n",
       "      <td>0</td>\n",
       "      <td>NaN</td>\n",
       "      <td>NaN</td>\n",
       "      <td>NaN</td>\n",
       "      <td>NaN</td>\n",
       "      <td>NaN</td>\n",
       "    </tr>\n",
       "    <tr>\n",
       "      <th>2389214</th>\n",
       "      <td>2008</td>\n",
       "      <td>4</td>\n",
       "      <td>17</td>\n",
       "      <td>4</td>\n",
       "      <td>1335.0</td>\n",
       "      <td>1335</td>\n",
       "      <td>1556.0</td>\n",
       "      <td>1553</td>\n",
       "      <td>DL</td>\n",
       "      <td>1209</td>\n",
       "      <td>...</td>\n",
       "      <td>7.0</td>\n",
       "      <td>31.0</td>\n",
       "      <td>0</td>\n",
       "      <td>NaN</td>\n",
       "      <td>0</td>\n",
       "      <td>NaN</td>\n",
       "      <td>NaN</td>\n",
       "      <td>NaN</td>\n",
       "      <td>NaN</td>\n",
       "      <td>NaN</td>\n",
       "    </tr>\n",
       "    <tr>\n",
       "      <th>2389215</th>\n",
       "      <td>2008</td>\n",
       "      <td>4</td>\n",
       "      <td>17</td>\n",
       "      <td>4</td>\n",
       "      <td>1933.0</td>\n",
       "      <td>1935</td>\n",
       "      <td>2140.0</td>\n",
       "      <td>2141</td>\n",
       "      <td>DL</td>\n",
       "      <td>1210</td>\n",
       "      <td>...</td>\n",
       "      <td>9.0</td>\n",
       "      <td>12.0</td>\n",
       "      <td>0</td>\n",
       "      <td>NaN</td>\n",
       "      <td>0</td>\n",
       "      <td>NaN</td>\n",
       "      <td>NaN</td>\n",
       "      <td>NaN</td>\n",
       "      <td>NaN</td>\n",
       "      <td>NaN</td>\n",
       "    </tr>\n",
       "    <tr>\n",
       "      <th>2389216</th>\n",
       "      <td>2008</td>\n",
       "      <td>4</td>\n",
       "      <td>17</td>\n",
       "      <td>4</td>\n",
       "      <td>621.0</td>\n",
       "      <td>615</td>\n",
       "      <td>752.0</td>\n",
       "      <td>754</td>\n",
       "      <td>DL</td>\n",
       "      <td>1211</td>\n",
       "      <td>...</td>\n",
       "      <td>15.0</td>\n",
       "      <td>12.0</td>\n",
       "      <td>0</td>\n",
       "      <td>NaN</td>\n",
       "      <td>0</td>\n",
       "      <td>NaN</td>\n",
       "      <td>NaN</td>\n",
       "      <td>NaN</td>\n",
       "      <td>NaN</td>\n",
       "      <td>NaN</td>\n",
       "    </tr>\n",
       "  </tbody>\n",
       "</table>\n",
       "<p>2389217 rows × 29 columns</p>\n",
       "</div>\n",
       "      <button class=\"colab-df-convert\" onclick=\"convertToInteractive('df-cc04ebe8-9040-4552-9c4e-993c8775bad0')\"\n",
       "              title=\"Convert this dataframe to an interactive table.\"\n",
       "              style=\"display:none;\">\n",
       "        \n",
       "  <svg xmlns=\"http://www.w3.org/2000/svg\" height=\"24px\"viewBox=\"0 0 24 24\"\n",
       "       width=\"24px\">\n",
       "    <path d=\"M0 0h24v24H0V0z\" fill=\"none\"/>\n",
       "    <path d=\"M18.56 5.44l.94 2.06.94-2.06 2.06-.94-2.06-.94-.94-2.06-.94 2.06-2.06.94zm-11 1L8.5 8.5l.94-2.06 2.06-.94-2.06-.94L8.5 2.5l-.94 2.06-2.06.94zm10 10l.94 2.06.94-2.06 2.06-.94-2.06-.94-.94-2.06-.94 2.06-2.06.94z\"/><path d=\"M17.41 7.96l-1.37-1.37c-.4-.4-.92-.59-1.43-.59-.52 0-1.04.2-1.43.59L10.3 9.45l-7.72 7.72c-.78.78-.78 2.05 0 2.83L4 21.41c.39.39.9.59 1.41.59.51 0 1.02-.2 1.41-.59l7.78-7.78 2.81-2.81c.8-.78.8-2.07 0-2.86zM5.41 20L4 18.59l7.72-7.72 1.47 1.35L5.41 20z\"/>\n",
       "  </svg>\n",
       "      </button>\n",
       "      \n",
       "  <style>\n",
       "    .colab-df-container {\n",
       "      display:flex;\n",
       "      flex-wrap:wrap;\n",
       "      gap: 12px;\n",
       "    }\n",
       "\n",
       "    .colab-df-convert {\n",
       "      background-color: #E8F0FE;\n",
       "      border: none;\n",
       "      border-radius: 50%;\n",
       "      cursor: pointer;\n",
       "      display: none;\n",
       "      fill: #1967D2;\n",
       "      height: 32px;\n",
       "      padding: 0 0 0 0;\n",
       "      width: 32px;\n",
       "    }\n",
       "\n",
       "    .colab-df-convert:hover {\n",
       "      background-color: #E2EBFA;\n",
       "      box-shadow: 0px 1px 2px rgba(60, 64, 67, 0.3), 0px 1px 3px 1px rgba(60, 64, 67, 0.15);\n",
       "      fill: #174EA6;\n",
       "    }\n",
       "\n",
       "    [theme=dark] .colab-df-convert {\n",
       "      background-color: #3B4455;\n",
       "      fill: #D2E3FC;\n",
       "    }\n",
       "\n",
       "    [theme=dark] .colab-df-convert:hover {\n",
       "      background-color: #434B5C;\n",
       "      box-shadow: 0px 1px 3px 1px rgba(0, 0, 0, 0.15);\n",
       "      filter: drop-shadow(0px 1px 2px rgba(0, 0, 0, 0.3));\n",
       "      fill: #FFFFFF;\n",
       "    }\n",
       "  </style>\n",
       "\n",
       "      <script>\n",
       "        const buttonEl =\n",
       "          document.querySelector('#df-cc04ebe8-9040-4552-9c4e-993c8775bad0 button.colab-df-convert');\n",
       "        buttonEl.style.display =\n",
       "          google.colab.kernel.accessAllowed ? 'block' : 'none';\n",
       "\n",
       "        async function convertToInteractive(key) {\n",
       "          const element = document.querySelector('#df-cc04ebe8-9040-4552-9c4e-993c8775bad0');\n",
       "          const dataTable =\n",
       "            await google.colab.kernel.invokeFunction('convertToInteractive',\n",
       "                                                     [key], {});\n",
       "          if (!dataTable) return;\n",
       "\n",
       "          const docLinkHtml = 'Like what you see? Visit the ' +\n",
       "            '<a target=\"_blank\" href=https://colab.research.google.com/notebooks/data_table.ipynb>data table notebook</a>'\n",
       "            + ' to learn more about interactive tables.';\n",
       "          element.innerHTML = '';\n",
       "          dataTable['output_type'] = 'display_data';\n",
       "          await google.colab.output.renderOutput(dataTable, element);\n",
       "          const docLink = document.createElement('div');\n",
       "          docLink.innerHTML = docLinkHtml;\n",
       "          element.appendChild(docLink);\n",
       "        }\n",
       "      </script>\n",
       "    </div>\n",
       "  </div>\n",
       "  "
      ],
      "text/plain": [
       "         Year  Month  DayofMonth  DayOfWeek  DepTime  CRSDepTime  ArrTime  \\\n",
       "0        2008      1           3          4   1343.0        1325   1451.0   \n",
       "1        2008      1           3          4   1125.0        1120   1247.0   \n",
       "2        2008      1           3          4   2009.0        2015   2136.0   \n",
       "3        2008      1           3          4    903.0         855   1203.0   \n",
       "4        2008      1           3          4   1423.0        1400   1726.0   \n",
       "...       ...    ...         ...        ...      ...         ...      ...   \n",
       "2389212  2008      4          17          4   1025.0        1025   1234.0   \n",
       "2389213  2008      4          17          4   1319.0        1320   1527.0   \n",
       "2389214  2008      4          17          4   1335.0        1335   1556.0   \n",
       "2389215  2008      4          17          4   1933.0        1935   2140.0   \n",
       "2389216  2008      4          17          4    621.0         615    752.0   \n",
       "\n",
       "         CRSArrTime UniqueCarrier  FlightNum  ... TaxiIn  TaxiOut  Cancelled  \\\n",
       "0              1435            WN        588  ...    4.0      9.0          0   \n",
       "1              1245            WN       1343  ...    3.0      8.0          0   \n",
       "2              2140            WN       3841  ...    2.0     14.0          0   \n",
       "3              1205            WN          3  ...    5.0      7.0          0   \n",
       "4              1710            WN         25  ...    6.0     10.0          0   \n",
       "...             ...           ...        ...  ...    ...      ...        ...   \n",
       "2389212        1237            DL       1207  ...    5.0     16.0          0   \n",
       "2389213        1524            DL       1208  ...    9.0     12.0          0   \n",
       "2389214        1553            DL       1209  ...    7.0     31.0          0   \n",
       "2389215        2141            DL       1210  ...    9.0     12.0          0   \n",
       "2389216         754            DL       1211  ...   15.0     12.0          0   \n",
       "\n",
       "         CancellationCode  Diverted  CarrierDelay WeatherDelay NASDelay  \\\n",
       "0                     NaN         0          16.0          0.0      0.0   \n",
       "1                     NaN         0           NaN          NaN      NaN   \n",
       "2                     NaN         0           NaN          NaN      NaN   \n",
       "3                     NaN         0           NaN          NaN      NaN   \n",
       "4                     NaN         0          16.0          0.0      0.0   \n",
       "...                   ...       ...           ...          ...      ...   \n",
       "2389212               NaN         0           NaN          NaN      NaN   \n",
       "2389213               NaN         0           NaN          NaN      NaN   \n",
       "2389214               NaN         0           NaN          NaN      NaN   \n",
       "2389215               NaN         0           NaN          NaN      NaN   \n",
       "2389216               NaN         0           NaN          NaN      NaN   \n",
       "\n",
       "         SecurityDelay  LateAircraftDelay  \n",
       "0                  0.0                0.0  \n",
       "1                  NaN                NaN  \n",
       "2                  NaN                NaN  \n",
       "3                  NaN                NaN  \n",
       "4                  0.0                0.0  \n",
       "...                ...                ...  \n",
       "2389212            NaN                NaN  \n",
       "2389213            NaN                NaN  \n",
       "2389214            NaN                NaN  \n",
       "2389215            NaN                NaN  \n",
       "2389216            NaN                NaN  \n",
       "\n",
       "[2389217 rows x 29 columns]"
      ]
     },
     "execution_count": 8,
     "metadata": {},
     "output_type": "execute_result"
    }
   ],
   "source": [
    "flights"
   ]
  },
  {
   "cell_type": "code",
   "execution_count": null,
   "metadata": {
    "id": "SDH01z9fFb11"
   },
   "outputs": [],
   "source": [
    "flights.isna().sum()"
   ]
  },
  {
   "cell_type": "markdown",
   "metadata": {
    "id": "c0HEcEx_7kcC"
   },
   "source": [
    "#### Data Assessing Summary:\n",
    "- The flight date is split into year, month, dayofmonth columns.\n",
    "- Many observations are NaN.\n",
    "- Columns' names are capitalized, with no spacing, and aren't descriptive.\n",
    "- Some columns are not necessary for analysis, Eg: FlightNum, CancellationCode.\n",
    "- dayofweek column uses numbers to describe week days."
   ]
  },
  {
   "cell_type": "markdown",
   "metadata": {
    "id": "jPJflkJU7zBv"
   },
   "source": [
    "## Cleaning"
   ]
  },
  {
   "cell_type": "markdown",
   "metadata": {
    "id": "kr86GVj07uAq"
   },
   "source": [
    "#### Defining cleaning tasks:\n",
    "- Rename columns.\n",
    "- Create a new column \"Travel_date\" by combining the year, month, and dayofmonth columns.\n",
    "- Drop unwanted columns.\n",
    "- Drop NaN observations (would still have plenty of data to work with, 500,000 points approximately)\n",
    "- Format the dayofweek column to display week days as saturday, sunday instead of numbers.\n"
   ]
  },
  {
   "cell_type": "code",
   "execution_count": 48,
   "metadata": {
    "id": "OjY14Ufgz7eW"
   },
   "outputs": [],
   "source": [
    "# Creating a copy of the dataset to work with without disturbing the original data\n",
    "flight = flights.copy()"
   ]
  },
  {
   "cell_type": "markdown",
   "metadata": {
    "id": "iaDfAlHUGPw0"
   },
   "source": [
    "###### Cleaning task (1): Renaming the columns\n",
    "\n",
    "\n"
   ]
  },
  {
   "cell_type": "code",
   "execution_count": 49,
   "metadata": {
    "id": "VeHn_RqR8EPU"
   },
   "outputs": [],
   "source": [
    "flight.columns = flight.columns.str.lower()"
   ]
  },
  {
   "cell_type": "code",
   "execution_count": null,
   "metadata": {
    "id": "tLYF7qQqGLXH"
   },
   "outputs": [],
   "source": [
    "flight.rename(columns = {'dest': 'destination', 'deptime':'departure_time', 'arrtime':'arrival_time', 'actualelapsedtime' : 'flight_duration',\n",
    "                         'airtime' : 'air_time', 'arrdelay' : 'arrival_delay' , 'depdelay' :'departure_delay' ,'weatherdelay' :'weather_delay',\n",
    "                         'securitydelay' :'security_delay' , 'crselapsedtime' : 'estimated_flight_duration' , \n",
    "                         'lateaircraftdelay':'late_aircraft_delay', 'carrierdelay' : 'carrier_delay'\n",
    "                        }, inplace = True)"
   ]
  },
  {
   "cell_type": "markdown",
   "metadata": {
    "id": "Mi8f6wLeGdoQ"
   },
   "source": [
    "###### Cleaning task (2): Creating the \"travel_date\" column\n"
   ]
  },
  {
   "cell_type": "code",
   "execution_count": 50,
   "metadata": {
    "id": "MqQ2nISW8H9z"
   },
   "outputs": [],
   "source": [
    "flight.year = flight.year.astype(str)\n",
    "flight.month = flight.month.astype(str)\n",
    "flight.dayofmonth = flight.dayofmonth.astype(str)"
   ]
  },
  {
   "cell_type": "code",
   "execution_count": 51,
   "metadata": {
    "id": "Gv8AZztp8Jmt"
   },
   "outputs": [],
   "source": [
    "flight['travel_date'] = flight.year + '-' + flight.month + '-' + flight.dayofmonth"
   ]
  },
  {
   "cell_type": "code",
   "execution_count": 52,
   "metadata": {
    "id": "Cj2UW8Bk8LdZ"
   },
   "outputs": [],
   "source": [
    "flight['travel_date'] = pd.to_datetime(flight['travel_date'])"
   ]
  },
  {
   "cell_type": "code",
   "execution_count": 15,
   "metadata": {
    "colab": {
     "base_uri": "https://localhost:8080/"
    },
    "id": "Q0ZT3XOg8N7x",
    "outputId": "fbbb7ba9-81c6-48fa-c236-8e07e8a1387f"
   },
   "outputs": [
    {
     "data": {
      "text/plain": [
       "0   2008-01-03\n",
       "1   2008-01-03\n",
       "2   2008-01-03\n",
       "3   2008-01-03\n",
       "4   2008-01-03\n",
       "Name: travel_date, dtype: datetime64[ns]"
      ]
     },
     "execution_count": 15,
     "metadata": {},
     "output_type": "execute_result"
    }
   ],
   "source": [
    "flight.travel_date.head()"
   ]
  },
  {
   "cell_type": "markdown",
   "metadata": {
    "id": "TiFR_Wm_GnaR"
   },
   "source": [
    "###### Cleaning task (3): Dropping unwanted columns\n"
   ]
  },
  {
   "cell_type": "code",
   "execution_count": 55,
   "metadata": {
    "id": "6PZYxdN7Af4l"
   },
   "outputs": [],
   "source": [
    "flight.drop(['year', 'month', 'dayofmonth', 'flightnum', 'tailnum','cancellationcode', 'nasdelay', 'uniquecarrier',\n",
    "             'taxiin', 'taxiout', 'crsarrtime', 'crsdeptime'], axis = 1, inplace = True)"
   ]
  },
  {
   "cell_type": "code",
   "execution_count": 58,
   "metadata": {
    "colab": {
     "base_uri": "https://localhost:8080/"
    },
    "id": "uZXI-Vu9AqIF",
    "outputId": "71d9d363-95d0-4462-a739-f9ee7818672d"
   },
   "outputs": [
    {
     "name": "stdout",
     "output_type": "stream",
     "text": [
      "<class 'pandas.core.frame.DataFrame'>\n",
      "RangeIndex: 2389217 entries, 0 to 2389216\n",
      "Data columns (total 18 columns):\n",
      " #   Column                     Dtype         \n",
      "---  ------                     -----         \n",
      " 0   dayofweek                  int64         \n",
      " 1   departure_time             float64       \n",
      " 2   arrival_time               float64       \n",
      " 3   flight_duration            float64       \n",
      " 4   estimated_flight_duration  float64       \n",
      " 5   air_time                   float64       \n",
      " 6   arrival_delay              float64       \n",
      " 7   departure_delay            float64       \n",
      " 8   origin                     object        \n",
      " 9   destination                object        \n",
      " 10  distance                   int64         \n",
      " 11  cancelled                  int64         \n",
      " 12  diverted                   int64         \n",
      " 13  carrier_delay              float64       \n",
      " 14  weather_delay              float64       \n",
      " 15  security_delay             float64       \n",
      " 16  late_aircraft_delay        float64       \n",
      " 17  travel_date                datetime64[ns]\n",
      "dtypes: datetime64[ns](1), float64(11), int64(4), object(2)\n",
      "memory usage: 328.1+ MB\n"
     ]
    }
   ],
   "source": [
    "flight.info()"
   ]
  },
  {
   "cell_type": "markdown",
   "metadata": {
    "id": "mXbt8gjRGutm"
   },
   "source": [
    "###### Cleaning task (4): Dropping NaN observations\n"
   ]
  },
  {
   "cell_type": "code",
   "execution_count": 72,
   "metadata": {
    "id": "likmoJ3-A-uw"
   },
   "outputs": [],
   "source": [
    "flight2 = flight.copy()"
   ]
  },
  {
   "cell_type": "code",
   "execution_count": 73,
   "metadata": {
    "id": "0iMb5yMH_t7m"
   },
   "outputs": [],
   "source": [
    "flight2.dropna( axis =  0 , inplace = True)"
   ]
  },
  {
   "cell_type": "code",
   "execution_count": 74,
   "metadata": {
    "colab": {
     "base_uri": "https://localhost:8080/"
    },
    "id": "y4prpMM9Bq1-",
    "outputId": "86131035-d192-48e3-ad33-4f584fb04fea"
   },
   "outputs": [
    {
     "name": "stdout",
     "output_type": "stream",
     "text": [
      "<class 'pandas.core.frame.DataFrame'>\n",
      "Int64Index: 584583 entries, 0 to 2389197\n",
      "Data columns (total 18 columns):\n",
      " #   Column                     Non-Null Count   Dtype         \n",
      "---  ------                     --------------   -----         \n",
      " 0   dayofweek                  584583 non-null  int64         \n",
      " 1   departure_time             584583 non-null  float64       \n",
      " 2   arrival_time               584583 non-null  float64       \n",
      " 3   flight_duration            584583 non-null  float64       \n",
      " 4   estimated_flight_duration  584583 non-null  float64       \n",
      " 5   air_time                   584583 non-null  float64       \n",
      " 6   arrival_delay              584583 non-null  float64       \n",
      " 7   departure_delay            584583 non-null  float64       \n",
      " 8   origin                     584583 non-null  object        \n",
      " 9   destination                584583 non-null  object        \n",
      " 10  distance                   584583 non-null  int64         \n",
      " 11  cancelled                  584583 non-null  int64         \n",
      " 12  diverted                   584583 non-null  int64         \n",
      " 13  carrier_delay              584583 non-null  float64       \n",
      " 14  weather_delay              584583 non-null  float64       \n",
      " 15  security_delay             584583 non-null  float64       \n",
      " 16  late_aircraft_delay        584583 non-null  float64       \n",
      " 17  travel_date                584583 non-null  datetime64[ns]\n",
      "dtypes: datetime64[ns](1), float64(11), int64(4), object(2)\n",
      "memory usage: 84.7+ MB\n"
     ]
    }
   ],
   "source": [
    "flight2.info()"
   ]
  },
  {
   "cell_type": "markdown",
   "metadata": {
    "id": "vWqIoToxG1Hk"
   },
   "source": [
    "###### Cleaning task (5): Formatting the \"dayofweek\" column\n"
   ]
  },
  {
   "cell_type": "code",
   "execution_count": 75,
   "metadata": {
    "id": "hM9ZY2nuJmLD"
   },
   "outputs": [],
   "source": [
    "flight3 = flight2.sample(100000)"
   ]
  },
  {
   "cell_type": "code",
   "execution_count": null,
   "metadata": {
    "id": "XlnSF9UxF51C"
   },
   "outputs": [],
   "source": [
    "weekday = {1 : 'monday', 2 : 'tuesday' , 3 : 'wednesday', 4 :'thursday' , 5 :'friday', 6 :'saturday', 7 : 'sunday' }\n"
   ]
  },
  {
   "cell_type": "code",
   "execution_count": 76,
   "metadata": {
    "id": "JY4vpafT8X-r"
   },
   "outputs": [],
   "source": [
    "for day_key in flight3['dayofweek']:\n",
    "    if day_key in weekday:\n",
    "        day_value = weekday.get(day_key)\n",
    "        flight3.dayofweek.replace(day_key, day_value, inplace= True)\n",
    "   \n",
    "   "
   ]
  },
  {
   "cell_type": "code",
   "execution_count": 77,
   "metadata": {
    "colab": {
     "base_uri": "https://localhost:8080/",
     "height": 270
    },
    "id": "p1nBp2ic_Zxm",
    "outputId": "7a9e7196-022b-4a1a-fa36-55a8795f9501"
   },
   "outputs": [
    {
     "data": {
      "text/html": [
       "\n",
       "  <div id=\"df-45038f54-b30a-427f-943e-2e5b4fd9f005\">\n",
       "    <div class=\"colab-df-container\">\n",
       "      <div>\n",
       "<style scoped>\n",
       "    .dataframe tbody tr th:only-of-type {\n",
       "        vertical-align: middle;\n",
       "    }\n",
       "\n",
       "    .dataframe tbody tr th {\n",
       "        vertical-align: top;\n",
       "    }\n",
       "\n",
       "    .dataframe thead th {\n",
       "        text-align: right;\n",
       "    }\n",
       "</style>\n",
       "<table border=\"1\" class=\"dataframe\">\n",
       "  <thead>\n",
       "    <tr style=\"text-align: right;\">\n",
       "      <th></th>\n",
       "      <th>dayofweek</th>\n",
       "      <th>departure_time</th>\n",
       "      <th>arrival_time</th>\n",
       "      <th>flight_duration</th>\n",
       "      <th>estimated_flight_duration</th>\n",
       "      <th>air_time</th>\n",
       "      <th>arrival_delay</th>\n",
       "      <th>departure_delay</th>\n",
       "      <th>origin</th>\n",
       "      <th>destination</th>\n",
       "      <th>distance</th>\n",
       "      <th>cancelled</th>\n",
       "      <th>diverted</th>\n",
       "      <th>carrier_delay</th>\n",
       "      <th>weather_delay</th>\n",
       "      <th>security_delay</th>\n",
       "      <th>late_aircraft_delay</th>\n",
       "      <th>travel_date</th>\n",
       "    </tr>\n",
       "  </thead>\n",
       "  <tbody>\n",
       "    <tr>\n",
       "      <th>833883</th>\n",
       "      <td>friday</td>\n",
       "      <td>2112.0</td>\n",
       "      <td>49.0</td>\n",
       "      <td>157.0</td>\n",
       "      <td>122.0</td>\n",
       "      <td>88.0</td>\n",
       "      <td>47.0</td>\n",
       "      <td>12.0</td>\n",
       "      <td>ORD</td>\n",
       "      <td>EWR</td>\n",
       "      <td>719</td>\n",
       "      <td>0</td>\n",
       "      <td>0</td>\n",
       "      <td>11.0</td>\n",
       "      <td>0.0</td>\n",
       "      <td>0.0</td>\n",
       "      <td>1.0</td>\n",
       "      <td>2008-02-01</td>\n",
       "    </tr>\n",
       "    <tr>\n",
       "      <th>1054776</th>\n",
       "      <td>saturday</td>\n",
       "      <td>1142.0</td>\n",
       "      <td>1501.0</td>\n",
       "      <td>379.0</td>\n",
       "      <td>340.0</td>\n",
       "      <td>353.0</td>\n",
       "      <td>41.0</td>\n",
       "      <td>2.0</td>\n",
       "      <td>IAD</td>\n",
       "      <td>LAX</td>\n",
       "      <td>2288</td>\n",
       "      <td>0</td>\n",
       "      <td>0</td>\n",
       "      <td>0.0</td>\n",
       "      <td>0.0</td>\n",
       "      <td>0.0</td>\n",
       "      <td>0.0</td>\n",
       "      <td>2008-02-02</td>\n",
       "    </tr>\n",
       "    <tr>\n",
       "      <th>1901590</th>\n",
       "      <td>thursday</td>\n",
       "      <td>2022.0</td>\n",
       "      <td>2137.0</td>\n",
       "      <td>75.0</td>\n",
       "      <td>77.0</td>\n",
       "      <td>53.0</td>\n",
       "      <td>45.0</td>\n",
       "      <td>47.0</td>\n",
       "      <td>IAH</td>\n",
       "      <td>BRO</td>\n",
       "      <td>308</td>\n",
       "      <td>0</td>\n",
       "      <td>0</td>\n",
       "      <td>45.0</td>\n",
       "      <td>0.0</td>\n",
       "      <td>0.0</td>\n",
       "      <td>0.0</td>\n",
       "      <td>2008-04-17</td>\n",
       "    </tr>\n",
       "    <tr>\n",
       "      <th>1088787</th>\n",
       "      <td>friday</td>\n",
       "      <td>648.0</td>\n",
       "      <td>1329.0</td>\n",
       "      <td>281.0</td>\n",
       "      <td>245.0</td>\n",
       "      <td>203.0</td>\n",
       "      <td>64.0</td>\n",
       "      <td>28.0</td>\n",
       "      <td>SAN</td>\n",
       "      <td>ORD</td>\n",
       "      <td>1723</td>\n",
       "      <td>0</td>\n",
       "      <td>0</td>\n",
       "      <td>0.0</td>\n",
       "      <td>0.0</td>\n",
       "      <td>0.0</td>\n",
       "      <td>0.0</td>\n",
       "      <td>2008-02-08</td>\n",
       "    </tr>\n",
       "    <tr>\n",
       "      <th>1780451</th>\n",
       "      <td>sunday</td>\n",
       "      <td>1903.0</td>\n",
       "      <td>2213.0</td>\n",
       "      <td>190.0</td>\n",
       "      <td>189.0</td>\n",
       "      <td>151.0</td>\n",
       "      <td>64.0</td>\n",
       "      <td>63.0</td>\n",
       "      <td>FLL</td>\n",
       "      <td>JFK</td>\n",
       "      <td>1069</td>\n",
       "      <td>0</td>\n",
       "      <td>0</td>\n",
       "      <td>2.0</td>\n",
       "      <td>0.0</td>\n",
       "      <td>0.0</td>\n",
       "      <td>29.0</td>\n",
       "      <td>2008-03-09</td>\n",
       "    </tr>\n",
       "  </tbody>\n",
       "</table>\n",
       "</div>\n",
       "      <button class=\"colab-df-convert\" onclick=\"convertToInteractive('df-45038f54-b30a-427f-943e-2e5b4fd9f005')\"\n",
       "              title=\"Convert this dataframe to an interactive table.\"\n",
       "              style=\"display:none;\">\n",
       "        \n",
       "  <svg xmlns=\"http://www.w3.org/2000/svg\" height=\"24px\"viewBox=\"0 0 24 24\"\n",
       "       width=\"24px\">\n",
       "    <path d=\"M0 0h24v24H0V0z\" fill=\"none\"/>\n",
       "    <path d=\"M18.56 5.44l.94 2.06.94-2.06 2.06-.94-2.06-.94-.94-2.06-.94 2.06-2.06.94zm-11 1L8.5 8.5l.94-2.06 2.06-.94-2.06-.94L8.5 2.5l-.94 2.06-2.06.94zm10 10l.94 2.06.94-2.06 2.06-.94-2.06-.94-.94-2.06-.94 2.06-2.06.94z\"/><path d=\"M17.41 7.96l-1.37-1.37c-.4-.4-.92-.59-1.43-.59-.52 0-1.04.2-1.43.59L10.3 9.45l-7.72 7.72c-.78.78-.78 2.05 0 2.83L4 21.41c.39.39.9.59 1.41.59.51 0 1.02-.2 1.41-.59l7.78-7.78 2.81-2.81c.8-.78.8-2.07 0-2.86zM5.41 20L4 18.59l7.72-7.72 1.47 1.35L5.41 20z\"/>\n",
       "  </svg>\n",
       "      </button>\n",
       "      \n",
       "  <style>\n",
       "    .colab-df-container {\n",
       "      display:flex;\n",
       "      flex-wrap:wrap;\n",
       "      gap: 12px;\n",
       "    }\n",
       "\n",
       "    .colab-df-convert {\n",
       "      background-color: #E8F0FE;\n",
       "      border: none;\n",
       "      border-radius: 50%;\n",
       "      cursor: pointer;\n",
       "      display: none;\n",
       "      fill: #1967D2;\n",
       "      height: 32px;\n",
       "      padding: 0 0 0 0;\n",
       "      width: 32px;\n",
       "    }\n",
       "\n",
       "    .colab-df-convert:hover {\n",
       "      background-color: #E2EBFA;\n",
       "      box-shadow: 0px 1px 2px rgba(60, 64, 67, 0.3), 0px 1px 3px 1px rgba(60, 64, 67, 0.15);\n",
       "      fill: #174EA6;\n",
       "    }\n",
       "\n",
       "    [theme=dark] .colab-df-convert {\n",
       "      background-color: #3B4455;\n",
       "      fill: #D2E3FC;\n",
       "    }\n",
       "\n",
       "    [theme=dark] .colab-df-convert:hover {\n",
       "      background-color: #434B5C;\n",
       "      box-shadow: 0px 1px 3px 1px rgba(0, 0, 0, 0.15);\n",
       "      filter: drop-shadow(0px 1px 2px rgba(0, 0, 0, 0.3));\n",
       "      fill: #FFFFFF;\n",
       "    }\n",
       "  </style>\n",
       "\n",
       "      <script>\n",
       "        const buttonEl =\n",
       "          document.querySelector('#df-45038f54-b30a-427f-943e-2e5b4fd9f005 button.colab-df-convert');\n",
       "        buttonEl.style.display =\n",
       "          google.colab.kernel.accessAllowed ? 'block' : 'none';\n",
       "\n",
       "        async function convertToInteractive(key) {\n",
       "          const element = document.querySelector('#df-45038f54-b30a-427f-943e-2e5b4fd9f005');\n",
       "          const dataTable =\n",
       "            await google.colab.kernel.invokeFunction('convertToInteractive',\n",
       "                                                     [key], {});\n",
       "          if (!dataTable) return;\n",
       "\n",
       "          const docLinkHtml = 'Like what you see? Visit the ' +\n",
       "            '<a target=\"_blank\" href=https://colab.research.google.com/notebooks/data_table.ipynb>data table notebook</a>'\n",
       "            + ' to learn more about interactive tables.';\n",
       "          element.innerHTML = '';\n",
       "          dataTable['output_type'] = 'display_data';\n",
       "          await google.colab.output.renderOutput(dataTable, element);\n",
       "          const docLink = document.createElement('div');\n",
       "          docLink.innerHTML = docLinkHtml;\n",
       "          element.appendChild(docLink);\n",
       "        }\n",
       "      </script>\n",
       "    </div>\n",
       "  </div>\n",
       "  "
      ],
      "text/plain": [
       "        dayofweek  departure_time  arrival_time  flight_duration  \\\n",
       "833883     friday          2112.0          49.0            157.0   \n",
       "1054776  saturday          1142.0        1501.0            379.0   \n",
       "1901590  thursday          2022.0        2137.0             75.0   \n",
       "1088787    friday           648.0        1329.0            281.0   \n",
       "1780451    sunday          1903.0        2213.0            190.0   \n",
       "\n",
       "         estimated_flight_duration  air_time  arrival_delay  departure_delay  \\\n",
       "833883                       122.0      88.0           47.0             12.0   \n",
       "1054776                      340.0     353.0           41.0              2.0   \n",
       "1901590                       77.0      53.0           45.0             47.0   \n",
       "1088787                      245.0     203.0           64.0             28.0   \n",
       "1780451                      189.0     151.0           64.0             63.0   \n",
       "\n",
       "        origin destination  distance  cancelled  diverted  carrier_delay  \\\n",
       "833883     ORD         EWR       719          0         0           11.0   \n",
       "1054776    IAD         LAX      2288          0         0            0.0   \n",
       "1901590    IAH         BRO       308          0         0           45.0   \n",
       "1088787    SAN         ORD      1723          0         0            0.0   \n",
       "1780451    FLL         JFK      1069          0         0            2.0   \n",
       "\n",
       "         weather_delay  security_delay  late_aircraft_delay travel_date  \n",
       "833883             0.0             0.0                  1.0  2008-02-01  \n",
       "1054776            0.0             0.0                  0.0  2008-02-02  \n",
       "1901590            0.0             0.0                  0.0  2008-04-17  \n",
       "1088787            0.0             0.0                  0.0  2008-02-08  \n",
       "1780451            0.0             0.0                 29.0  2008-03-09  "
      ]
     },
     "execution_count": 77,
     "metadata": {},
     "output_type": "execute_result"
    }
   ],
   "source": [
    "flight3.head()"
   ]
  },
  {
   "cell_type": "markdown",
   "metadata": {
    "id": "fpaITGObL0gm"
   },
   "source": [
    "## Storing Data"
   ]
  },
  {
   "cell_type": "code",
   "execution_count": 80,
   "metadata": {
    "id": "4Cix0ccm_iKY"
   },
   "outputs": [],
   "source": [
    "# Storing the flight data as .csv\n",
    "flight3.to_csv('flight_clean.csv', index = False)"
   ]
  },
  {
   "cell_type": "code",
   "execution_count": null,
   "metadata": {
    "id": "VXOuelDwM5Gi"
   },
   "outputs": [],
   "source": []
  }
 ],
 "metadata": {
  "colab": {
   "provenance": []
  },
  "kernelspec": {
   "display_name": "Python 3",
   "language": "python",
   "name": "python3"
  },
  "language_info": {
   "codemirror_mode": {
    "name": "ipython",
    "version": 3
   },
   "file_extension": ".py",
   "mimetype": "text/x-python",
   "name": "python",
   "nbconvert_exporter": "python",
   "pygments_lexer": "ipython3",
   "version": "3.7.4"
  }
 },
 "nbformat": 4,
 "nbformat_minor": 1
}
